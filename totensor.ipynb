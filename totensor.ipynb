
import torch
from torch.utils.data import Dataset
from torchvision import datasets
from torchvision.transforms import ToTensor
import matplotlib.pyplot as plt


training_data = datasets.jetnet(
    root="data",
    train=True,
    download=True,
    transform=ToTensor()
)

test_data = datasets.jetnet(
    root="data",
    train=False,
    download=True,
    transform=ToTensor()
)