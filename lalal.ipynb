{
 "cells": [
  {
   "cell_type": "code",
   "execution_count": 20,
   "metadata": {},
   "outputs": [],
   "source": [
    "def __init__(\n",
    "jet_type: int):\n",
    " jet_type=\"t\"\n",
    " assert jet_type in [\"g\", \"t\", \"q\"], \"Invalid jet type\""
   ]
  }
 ],
 "metadata": {
  "interpreter": {
   "hash": "d0fe7b544b91fdae879a8427963a6056d0fd4faa9d244d4855e28ddfc76a93b1"
  },
  "kernelspec": {
   "display_name": "Python 3.9.7 ('base')",
   "language": "python",
   "name": "python3"
  },
  "language_info": {
   "codemirror_mode": {
    "name": "ipython",
    "version": 3
   },
   "file_extension": ".py",
   "mimetype": "text/x-python",
   "name": "python",
   "nbconvert_exporter": "python",
   "pygments_lexer": "ipython3",
   "version": "3.9.7"
  },
  "orig_nbformat": 4
 },
 "nbformat": 4,
 "nbformat_minor": 2
}
