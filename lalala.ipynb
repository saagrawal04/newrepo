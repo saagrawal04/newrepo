from jetnet.datasets import JetNet
jets = JetNet('g', data_dir='datasets")